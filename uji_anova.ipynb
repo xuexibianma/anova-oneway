{
 "cells": [
  {
   "cell_type": "markdown",
   "id": "c36e063a",
   "metadata": {},
   "source": [
    "# Uji ANOVA Satu Arah\n",
    "\n",
    "## I Nyoman Sweta (sweta@komang.my.id)\n",
    "Notebook ini berisi langkah-langkah analisis ANOVA untuk menguji apakah ada perbedaan signifikan dalam nilai ujian antara tiga metode pembelajaran."
   ]
  },
  {
   "cell_type": "code",
   "execution_count": 8,
   "id": "8b2d41e8",
   "metadata": {},
   "outputs": [],
   "source": [
    "\n",
    "import pandas as pd\n",
    "import numpy as np\n",
    "import scipy.stats as stats\n",
    "import matplotlib.pyplot as plt\n",
    "import seaborn as sns\n"
   ]
  },
  {
   "cell_type": "code",
   "execution_count": 9,
   "id": "c9cbb42d",
   "metadata": {},
   "outputs": [
    {
     "data": {
      "text/html": [
       "<div>\n",
       "<style scoped>\n",
       "    .dataframe tbody tr th:only-of-type {\n",
       "        vertical-align: middle;\n",
       "    }\n",
       "\n",
       "    .dataframe tbody tr th {\n",
       "        vertical-align: top;\n",
       "    }\n",
       "\n",
       "    .dataframe thead th {\n",
       "        text-align: right;\n",
       "    }\n",
       "</style>\n",
       "<table border=\"1\" class=\"dataframe\">\n",
       "  <thead>\n",
       "    <tr style=\"text-align: right;\">\n",
       "      <th></th>\n",
       "      <th>Metode</th>\n",
       "      <th>Nilai</th>\n",
       "    </tr>\n",
       "  </thead>\n",
       "  <tbody>\n",
       "    <tr>\n",
       "      <th>0</th>\n",
       "      <td>A</td>\n",
       "      <td>75</td>\n",
       "    </tr>\n",
       "    <tr>\n",
       "      <th>1</th>\n",
       "      <td>A</td>\n",
       "      <td>78</td>\n",
       "    </tr>\n",
       "    <tr>\n",
       "      <th>2</th>\n",
       "      <td>A</td>\n",
       "      <td>82</td>\n",
       "    </tr>\n",
       "    <tr>\n",
       "      <th>3</th>\n",
       "      <td>A</td>\n",
       "      <td>90</td>\n",
       "    </tr>\n",
       "    <tr>\n",
       "      <th>4</th>\n",
       "      <td>A</td>\n",
       "      <td>85</td>\n",
       "    </tr>\n",
       "  </tbody>\n",
       "</table>\n",
       "</div>"
      ],
      "text/plain": [
       "  Metode  Nilai\n",
       "0      A     75\n",
       "1      A     78\n",
       "2      A     82\n",
       "3      A     90\n",
       "4      A     85"
      ]
     },
     "execution_count": 9,
     "metadata": {},
     "output_type": "execute_result"
    }
   ],
   "source": [
    "\n",
    "# Membaca dataset\n",
    "dataset_path = \"dataset/nilai.csv\"  # Sesuaikan dengan lokasi dataset\n",
    "df = pd.read_csv(dataset_path)\n",
    "\n",
    "# Menampilkan 5 data pertama\n",
    "df.head()\n"
   ]
  },
  {
   "cell_type": "code",
   "execution_count": 10,
   "id": "deb09709",
   "metadata": {},
   "outputs": [
    {
     "name": "stdout",
     "output_type": "stream",
     "text": [
      "Statistik Deskriptif:\n",
      "        count  mean       std   min    25%   50%    75%   max\n",
      "Metode                                                       \n",
      "A        10.0  81.0  5.142416  75.0  77.25  79.5  84.25  90.0\n",
      "B        10.0  64.6  3.204164  60.0  62.25  64.5  66.75  70.0\n",
      "C        10.0  84.6  3.204164  80.0  82.25  84.5  86.75  90.0\n"
     ]
    },
    {
     "name": "stderr",
     "output_type": "stream",
     "text": [
      "C:\\Users\\USER\\AppData\\Local\\Temp\\ipykernel_14752\\1047142972.py:7: FutureWarning: \n",
      "\n",
      "Passing `palette` without assigning `hue` is deprecated and will be removed in v0.14.0. Assign the `x` variable to `hue` and set `legend=False` for the same effect.\n",
      "\n",
      "  sns.boxplot(x=\"Metode\", y=\"Nilai\", data=df, palette=\"Set2\")\n"
     ]
    },
    {
     "data": {
      "image/png": "[encoded data removed]",
      "text/plain": [
       "<Figure size 800x500 with 1 Axes>"
      ]
     },
     "metadata": {},
     "output_type": "display_data"
    }
   ],
   "source": [
    "\n",
    "# Statistik Deskriptif\n",
    "print(\"Statistik Deskriptif:\")\n",
    "print(df.groupby(\"Metode\")[\"Nilai\"].describe())\n",
    "\n",
    "# Visualisasi Distribusi Nilai\n",
    "plt.figure(figsize=(8, 5))\n",
    "sns.boxplot(x=\"Metode\", y=\"Nilai\", data=df, palette=\"Set2\")\n",
    "plt.title(\"Distribusi Nilai Ujian Berdasarkan Metode Belajar\")\n",
    "plt.show()\n"
   ]
  },
  {
   "cell_type": "code",
   "execution_count": 11,
   "id": "ddd7e1a4",
   "metadata": {},
   "outputs": [
    {
     "name": "stdout",
     "output_type": "stream",
     "text": [
      "F-statistik: 72.5790\n",
      "P-value: 0.0000\n",
      "Hasil: Terdapat perbedaan signifikan antara metode belajar.\n"
     ]
    }
   ],
   "source": [
    "\n",
    "# Memisahkan data berdasarkan metode belajar\n",
    "nilai_A = df[df[\"Metode\"] == \"A\"][\"Nilai\"]\n",
    "nilai_B = df[df[\"Metode\"] == \"B\"][\"Nilai\"]\n",
    "nilai_C = df[df[\"Metode\"] == \"C\"][\"Nilai\"]\n",
    "\n",
    "# Melakukan uji ANOVA\n",
    "F_stat, p_value = stats.f_oneway(nilai_A, nilai_B, nilai_C)\n",
    "\n",
    "# Menampilkan hasil uji ANOVA\n",
    "print(f\"F-statistik: {F_stat:.4f}\")\n",
    "print(f\"P-value: {p_value:.4f}\")\n",
    "\n",
    "# Menentukan kesimpulan\n",
    "alpha = 0.05\n",
    "if p_value < alpha:\n",
    "    print(\"Hasil: Terdapat perbedaan signifikan antara metode belajar.\")\n",
    "else:\n",
    "    print(\"Hasil: Tidak ada perbedaan signifikan antara metode belajar.\")\n"
   ]
  }
 ],
 "metadata": {
  "kernelspec": {
   "display_name": "Python 3",
   "language": "python",
   "name": "python3"
  },
  "language_info": {
   "codemirror_mode": {
    "name": "ipython",
    "version": 3
   },
   "file_extension": ".py",
   "mimetype": "text/x-python",
   "name": "python",
   "nbconvert_exporter": "python",
   "pygments_lexer": "ipython3",
   "version": "3.13.1"
  }
 },
 "nbformat": 4,
 "nbformat_minor": 5
}
